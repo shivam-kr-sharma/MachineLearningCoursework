{
  "cells": [
    {
      "cell_type": "markdown",
      "metadata": {
        "id": "LqbrvPmAReAC"
      },
      "source": [
        "# Machine Learning Programming Exercise 1\n",
        "\n",
        "## 1 Write a function to generate an m+1 dimensional data set, of size n, consisting of m continuous independent variables (X) and one dependent variable (Y) defined as\n",
        "\n",
        "$y_i = x_i\\beta + e$  \n",
        "\n",
        "where,\n",
        "\n",
        "- e is a Gaussuan distribution with mean 0 and standard deviation (σ), representing the unexplained variation in Y\n",
        "- β is a random vector of dimensionality m + 1, representing the coefficients of the linear relationship between X and Y, and  \n",
        "- $\\forall i \\in [1, n], x_{i0} = 1$\n",
        "\n",
        "The function should take the following parameters:  \n",
        "\n",
        "- σ: The spread of noise in the output variable\n",
        "- n: The size of the data set   \n",
        "- m: The number of indepedent variables\n",
        "\n",
        "Output from the function should be:  \n",
        "\n",
        "- X: An n × m numpy array of independent variable values (with a 1 in the first column)  \n",
        "- Y: The n × 1 numpy array of output values\n",
        "- β: The random coefficients used to generatre Y from X\n",
        "\n"
      ]
    },
    {
      "cell_type": "code",
      "execution_count": null,
      "metadata": {
        "colab": {
          "base_uri": "https://localhost:8080/",
          "height": 349
        },
        "id": "ZSlTcZPESMxK",
        "outputId": "8f13419b-39e6-4ca5-acf4-ca10c4999c7e"
      },
      "outputs": [],
      "source": [
        "import numpy as np\n",
        "\n",
        "def generate_dataset(datasetSize, no_of_ind_var, sigma):\n",
        "    \"\"\"Function for generating the required data set.\n",
        "\n",
        "    Args:\n",
        "        datasetSize (Integer): This is the size of the data set.\n",
        "        no_of_ind_var (Integer): This is the number of independent variables.\n",
        "        sigma (Float or Integer): This is the standard deviation of the error term.\n",
        "\n",
        "    Returns:\n",
        "        X (2D array): Size of (datasetSize, no_of_ind_var)\n",
        "        Y (2D array): Size of (datasetSize, 1) \n",
        "        Beta (1D array): Size of (no_of_ind_var+1)\n",
        "    \"\"\"\n",
        "    e = np.random.normal(0,sigma,(datasetSize,1))\n",
        "    beta = np.random.rand(no_of_ind_var+1,1)\n",
        "\n",
        "    X = np.random.rand(datasetSize,no_of_ind_var)\n",
        "    X = np.hstack((np.ones((datasetSize, 1)), X)) \n",
        "    \n",
        "    Y = X @ beta + e\n",
        "    return X,Y,beta\n",
        "\n",
        "print(generate_dataset(10, 3, 1))\n",
        "    "
      ]
    },
    {
      "cell_type": "markdown",
      "metadata": {
        "id": "Nz5o9JScYi9G"
      },
      "source": [
        "## 2 Write a function that learns the parameters of a linear regression line given inputs  \n",
        "\n",
        "- X: An n × m numpy array of independent variable values  \n",
        "- Y: The n × 1 numpy array of output values\n",
        "- k: the number of iteractions (epochs)   \n",
        "- τ: the threshold on change in Cost function value from the previous to current iteration\n",
        "\n",
        "The function should implement the Gradient Descent algorithm as discussed in class that initialises β with random values and then updates these values in each iteraction by moving in the the direction defined by the partial derivative of the cost function with respect to each of the coefficients. The function should use only one loop that ends after a number of iterations (k) or a threshold on the change in cost function value (τ).  \n",
        "\n",
        "The output should be an m + 1 dimensional vector of coefficients and the final cost function value.  \n",
        "\n",
        "\n",
        "\n",
        "\n"
      ]
    },
    {
      "cell_type": "code",
      "execution_count": null,
      "metadata": {
        "id": "GA2_AbyaYoE8"
      },
      "outputs": [],
      "source": [
        "import numpy as np\n",
        "\n",
        "def linear_regress(X, Y, k, tau):   # Here tau is the threshold on change in cost function value.\n",
        "    n, m = X.shape\n",
        "    X = np.hstack((np.ones((n, 1)), X)) # Adding the bias term\n",
        "    beta = np.random.rand(m + 1, 1) # Initializing coefficients\n",
        "    cost = float(\"inf\") # Initializing cost\n",
        "    for i in range(k):\n",
        "        y_pred = X @ beta\n",
        "        error = Y - y_pred\n",
        "        cost_new = (1 / (2 * n)) * np.sum(error ** 2)\n",
        "        if np.abs(cost - cost_new) < tau:\n",
        "            break\n",
        "        cost = cost_new\n",
        "        gradient = -(1 / n) * X.T @ error\n",
        "        beta = beta - gradient\n",
        "    \n",
        "    beta = beta.T\n",
        "    \n",
        "    return beta, cost\n"
      ]
    }
  ],
  "metadata": {
    "colab": {
      "provenance": []
    },
    "kernelspec": {
      "display_name": "Python 3",
      "name": "python3"
    },
    "language_info": {
      "codemirror_mode": {
        "name": "ipython",
        "version": 3
      },
      "file_extension": ".py",
      "mimetype": "text/x-python",
      "name": "python",
      "nbconvert_exporter": "python",
      "pygments_lexer": "ipython3",
      "version": "3.11.4"
    }
  },
  "nbformat": 4,
  "nbformat_minor": 0
}
